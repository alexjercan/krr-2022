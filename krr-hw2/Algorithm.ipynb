{
 "cells": [
  {
   "cell_type": "markdown",
   "id": "9cab83c7",
   "metadata": {},
   "source": [
    "# The EM Algorithm for Gaussian Mixtures\n",
    "\n",
    "## Imports\n",
    "\n",
    "I will use numpy for the matrix calculations, scikit-learn for KMeans (used later in the initialization functions) and matplotlib to show the graphs of the log likelihood."
   ]
  },
  {
   "cell_type": "code",
   "execution_count": 1,
   "id": "dbf48cf4",
   "metadata": {
    "ExecuteTime": {
     "end_time": "2022-01-26T15:56:39.102389Z",
     "start_time": "2022-01-26T15:56:38.190577Z"
    }
   },
   "outputs": [],
   "source": [
    "import numpy as np\n",
    "\n",
    "np.set_printoptions(precision=2)\n",
    "\n",
    "import seaborn as sns\n",
    "import matplotlib.pyplot as plt\n",
    "\n",
    "from sklearn.cluster import KMeans\n",
    "from tqdm import tqdm"
   ]
  },
  {
   "cell_type": "markdown",
   "id": "5e469edb",
   "metadata": {},
   "source": [
    "## Load Data\n",
    "\n",
    "The `gmm_input_path` should point to the file containing the 2-D samples. The output should be a (1000, 2) ndarray."
   ]
  },
  {
   "cell_type": "code",
   "execution_count": 2,
   "id": "627d8ffb",
   "metadata": {
    "ExecuteTime": {
     "end_time": "2022-01-26T15:56:39.118792Z",
     "start_time": "2022-01-26T15:56:39.103839Z"
    }
   },
   "outputs": [
    {
     "name": "stdout",
     "output_type": "stream",
     "text": [
      "The input shape is (1000, 2)\n"
     ]
    }
   ],
   "source": [
    "gmm_input_path = \"./GMM.in\"\n",
    "\n",
    "with open(gmm_input_path, \"r\") as f:\n",
    "    lines = f.readlines()\n",
    "    X = np.array([x.split() for x in lines]).astype(np.float32)\n",
    "    \n",
    "print(f\"The input shape is {X.shape}\")"
   ]
  },
  {
   "cell_type": "markdown",
   "id": "e6cd1b3e",
   "metadata": {},
   "source": [
    "## Gaussian Mixture Model\n",
    "\n",
    "Here I implemented the multivariate gauss distribution function and I tested that it works by plotting a mesh with mean \\[1, 2\\] and variance \\[\\[1, 1\\], \\[0.5, 1\\]\\]."
   ]
  },
  {
   "cell_type": "code",
   "execution_count": 3,
   "id": "50b730a8",
   "metadata": {
    "ExecuteTime": {
     "end_time": "2022-01-26T15:56:39.126943Z",
     "start_time": "2022-01-26T15:56:39.121974Z"
    }
   },
   "outputs": [],
   "source": [
    "def multivariate_gauss(X, mu_k, sig_k):\n",
    "    d = X.shape[1]\n",
    "    e = -1/2 * np.sum((X - mu_k) @ np.linalg.inv(sig_k) * (X - mu_k), axis=1)\n",
    "    n = (2 * np.pi) ** (d/2) * np.linalg.det(sig_k) ** 0.5\n",
    "    return 1 / n * np.exp(e)"
   ]
  },
  {
   "cell_type": "code",
   "execution_count": 33,
   "id": "31fbcd52",
   "metadata": {
    "ExecuteTime": {
     "end_time": "2022-01-26T16:21:37.979828Z",
     "start_time": "2022-01-26T16:21:37.788462Z"
    }
   },
   "outputs": [
    {
     "data": {
      "image/png": "[encoded data removed]",
      "text/plain": [
       "<Figure size 432x288 with 2 Axes>"
      ]
     },
     "metadata": {
      "needs_background": "light"
     },
     "output_type": "display_data"
    }
   ],
   "source": [
    "xs = np.array([[x, y] for x in np.linspace(-10, 10, 100) for y in np.linspace(-10, 10, 100)])\n",
    "mu_k = np.array([1, 2])\n",
    "sig_k = np.array([[1, 1], [0.5, 1]])\n",
    "\n",
    "ys = multivariate_gauss(xs, mu_k, sig_k)\n",
    "\n",
    "fig, ax = plt.subplots(1, 1)\n",
    "\n",
    "plt.imshow(ys.reshape(100, 100))\n",
    "ax.invert_yaxis()\n",
    "plt.colorbar()\n",
    "plt.title(\"Multivariate gaussian distribution with mean [1, 2] and variance [[1, 1], [0.5, 1]]\")\n",
    "plt.show()"
   ]
  },
  {
   "cell_type": "code",
   "execution_count": 4,
   "id": "0baf2b08",
   "metadata": {
    "ExecuteTime": {
     "end_time": "2022-01-26T15:56:39.137318Z",
     "start_time": "2022-01-26T15:56:39.129421Z"
    }
   },
   "outputs": [],
   "source": [
    "def membership_weights(X, mu, sig, alpha):\n",
    "    p_ks = np.array([multivariate_gauss(X, mu_k, sig_k) * alpha_k for mu_k, sig_k, alpha_k in zip(mu, sig, alpha)])\n",
    "    p = np.sum(p_ks, axis=0)\n",
    "    return np.array([p_k / p for p_k in p_ks]).T"
   ]
  },
  {
   "cell_type": "markdown",
   "id": "ddad3b75",
   "metadata": {},
   "source": [
    "## EM Algorithm"
   ]
  },
  {
   "cell_type": "code",
   "execution_count": 5,
   "id": "e28be1a7",
   "metadata": {
    "ExecuteTime": {
     "end_time": "2022-01-26T15:56:39.145309Z",
     "start_time": "2022-01-26T15:56:39.140653Z"
    }
   },
   "outputs": [],
   "source": [
    "def e_step(X, mu, sig, alpha):\n",
    "    return membership_weights(X, mu, sig, alpha)"
   ]
  },
  {
   "cell_type": "code",
   "execution_count": 6,
   "id": "845f5252",
   "metadata": {
    "ExecuteTime": {
     "end_time": "2022-01-26T15:56:39.162554Z",
     "start_time": "2022-01-26T15:56:39.149569Z"
    }
   },
   "outputs": [],
   "source": [
    "def m_step(X, w):\n",
    "    N = X.shape[0]\n",
    "    \n",
    "    N_ks = np.sum(w, axis=0)\n",
    "    alpha_ks = N_ks / N\n",
    "    \n",
    "    mu_ks = ((X.T @ w) / N_ks).T\n",
    "    \n",
    "    K = w.shape[1]\n",
    "    sig_ks = (1 / N_ks * np.array([np.sum(w[:, k] * (np.expand_dims((X - mu_ks[k]), axis=2) @ np.expand_dims((X - mu_ks[k]), axis=1)).T, axis=2) for k in range(K)]).T).T\n",
    "        \n",
    "    return mu_ks, sig_ks, alpha_ks"
   ]
  },
  {
   "cell_type": "code",
   "execution_count": 7,
   "id": "4ffa4ed2",
   "metadata": {
    "ExecuteTime": {
     "end_time": "2022-01-26T15:56:39.186595Z",
     "start_time": "2022-01-26T15:56:39.165359Z"
    }
   },
   "outputs": [],
   "source": [
    "def log_likelihood(x, mu, sig, alpha):\n",
    "    p_ks = np.array([multivariate_gauss(x, mu_k, sig_k) * alpha_k for mu_k, sig_k, alpha_k in zip(mu, sig, alpha)])\n",
    "    return np.sum(np.log(np.sum(p_ks, axis=0)))\n",
    "\n",
    "def run_converge(X, theta, iter=100):\n",
    "    mu_ks, sig_ks, alpha_ks = theta\n",
    "    loop = tqdm(range(iter))\n",
    "    \n",
    "    lls = [] \n",
    "    last_ll = log_likelihood(X, mu_ks, sig_ks, alpha_ks)\n",
    "    for _ in loop:\n",
    "        w = e_step(X, mu_ks, sig_ks, alpha_ks)\n",
    "        mu_ks, sig_ks, alpha_ks = m_step(X, w)\n",
    "        ll = log_likelihood(X, mu_ks, sig_ks, alpha_ks)\n",
    "        \n",
    "        loop.set_postfix(log_likelihood=ll)\n",
    "        \n",
    "        if np.abs(last_ll - ll) < 0.01:\n",
    "            break\n",
    "        \n",
    "        last_ll = ll\n",
    "        lls.append(ll)\n",
    "\n",
    "    return (mu_ks, sig_ks, alpha_ks), lls"
   ]
  },
  {
   "cell_type": "markdown",
   "id": "d960b4b3",
   "metadata": {},
   "source": [
    "## Initialization Functions"
   ]
  },
  {
   "cell_type": "code",
   "execution_count": 8,
   "id": "2eb82e3a",
   "metadata": {
    "ExecuteTime": {
     "end_time": "2022-01-26T15:56:39.208395Z",
     "start_time": "2022-01-26T15:56:39.194630Z"
    }
   },
   "outputs": [],
   "source": [
    "def rand_init_theta(X, K=4):\n",
    "    number_of_rows = X.shape[0]\n",
    "    random_indices = np.random.choice(number_of_rows, size=K, replace=False)\n",
    "    \n",
    "    mu_ks = X[random_indices, :]\n",
    "    sig_ks = np.array([np.cov(X.T) for _ in range(K)])\n",
    "    alpha_ks = np.array([1 / K for _ in range(K)])\n",
    "    \n",
    "    return mu_ks, sig_ks, alpha_ks\n",
    "\n",
    "def knn_init_theta(X, K=4):\n",
    "    clf = KMeans(n_clusters=K)\n",
    "    w = clf.fit_transform(X)\n",
    "    \n",
    "    return m_step(X, w)\n",
    "\n",
    "def print_theta(theta):\n",
    "    mu_ks, sig_ks, alpha_ks = theta\n",
    "    for k, (mu_k, sig_k) in enumerate(zip(mu_ks, sig_ks)):\n",
    "        print(f\"mu_{k}:\\n {mu_k}\")\n",
    "        print(f\"sig_{k}:\\n {sig_k}\")\n",
    "    print(f\"alpha:\\n {alpha_ks}\")\n",
    "    print()"
   ]
  },
  {
   "cell_type": "markdown",
   "id": "d71fe73b",
   "metadata": {},
   "source": [
    "## Random Initialization\n",
    "\n",
    "The initial mean value for each GMM will be one of the points from the dataset, chosen randomly.\n",
    "\n",
    "The initial variance matrix will be the same for every GMM and will be equal to the covariance matrix of the dataset.\n",
    "\n",
    "The initial alpha parameter will contain the same probability for each model, being equal to 1/K."
   ]
  },
  {
   "cell_type": "code",
   "execution_count": 9,
   "id": "d9a7a482",
   "metadata": {
    "ExecuteTime": {
     "end_time": "2022-01-26T15:56:39.543310Z",
     "start_time": "2022-01-26T15:56:39.210331Z"
    }
   },
   "outputs": [
    {
     "name": "stderr",
     "output_type": "stream",
     "text": [
      "  6%| | 55/1000 [00:00<00:02, 331.22it/s, log\n"
     ]
    },
    {
     "name": "stdout",
     "output_type": "stream",
     "text": [
      "mu_0:\n",
      " [-0.1  -0.07]\n",
      "sig_0:\n",
      " [[0.88 0.11]\n",
      " [0.11 1.13]]\n",
      "mu_1:\n",
      " [-2.86  6.93]\n",
      "sig_1:\n",
      " [[ 2.68 -2.44]\n",
      " [-2.44  4.85]]\n",
      "mu_2:\n",
      " [ 4.93 -0.03]\n",
      "sig_2:\n",
      " [[1.83 0.86]\n",
      " [0.86 1.89]]\n",
      "mu_3:\n",
      " [-2.1  -5.13]\n",
      "sig_3:\n",
      " [[ 3.69 -1.11]\n",
      " [-1.11  4.05]]\n",
      "alpha:\n",
      " [0.16 0.24 0.1  0.49]\n",
      "\n"
     ]
    },
    {
     "data": {
      "image/png": "[encoded data removed]",
      "text/plain": [
       "<Figure size 432x288 with 1 Axes>"
      ]
     },
     "metadata": {
      "needs_background": "light"
     },
     "output_type": "display_data"
    }
   ],
   "source": [
    "theta = rand_init_theta(X, K=4)\n",
    "theta, lls = run_converge(X, theta, iter=1000)\n",
    "\n",
    "print_theta(theta)\n",
    "\n",
    "sns.lineplot(x=range(len(lls)), y=lls)\n",
    "plt.title(\"Log likelihood plot for randomly initialized theta\")\n",
    "plt.ylabel(\"Log likelihood\")\n",
    "plt.xlabel(\"Iteration\")\n",
    "plt.show()"
   ]
  },
  {
   "cell_type": "markdown",
   "id": "1329ee34",
   "metadata": {},
   "source": [
    "## KMeans Initialization\n",
    "\n",
    "In the case of KMeans initialization I will compute the membership weights as the distances for each point from the obtained centroids. Then I will use the m step to compute each of the theta parameters."
   ]
  },
  {
   "cell_type": "code",
   "execution_count": 10,
   "id": "1d5113ea",
   "metadata": {
    "ExecuteTime": {
     "end_time": "2022-01-26T15:56:39.849506Z",
     "start_time": "2022-01-26T15:56:39.544545Z"
    }
   },
   "outputs": [
    {
     "name": "stderr",
     "output_type": "stream",
     "text": [
      "  5%| | 52/1000 [00:00<00:02, 471.42it/s, log\n"
     ]
    },
    {
     "name": "stdout",
     "output_type": "stream",
     "text": [
      "mu_0:\n",
      " [-2.1  -5.13]\n",
      "sig_0:\n",
      " [[ 3.69 -1.11]\n",
      " [-1.11  4.05]]\n",
      "mu_1:\n",
      " [ 4.93 -0.03]\n",
      "sig_1:\n",
      " [[1.84 0.87]\n",
      " [0.87 1.9 ]]\n",
      "mu_2:\n",
      " [-0.1  -0.06]\n",
      "sig_2:\n",
      " [[0.87 0.1 ]\n",
      " [0.1  1.13]]\n",
      "mu_3:\n",
      " [-2.86  6.93]\n",
      "sig_3:\n",
      " [[ 2.68 -2.44]\n",
      " [-2.44  4.84]]\n",
      "alpha:\n",
      " [0.49 0.1  0.16 0.24]\n",
      "\n"
     ]
    },
    {
     "data": {
      "image/png": "[encoded data removed]",
      "text/plain": [
       "<Figure size 432x288 with 1 Axes>"
      ]
     },
     "metadata": {
      "needs_background": "light"
     },
     "output_type": "display_data"
    }
   ],
   "source": [
    "theta = knn_init_theta(X, K=4)\n",
    "theta, lls = run_converge(X, theta, iter=1000)\n",
    "\n",
    "print_theta(theta)\n",
    "sns.lineplot(x=range(len(lls)), y=lls)\n",
    "plt.title(\"Log likelihood plot for theta initialized using KMeans\")\n",
    "plt.ylabel(\"Log likelihood\")\n",
    "plt.xlabel(\"Iteration\")\n",
    "plt.show()"
   ]
  },
  {
   "cell_type": "code",
   "execution_count": null,
   "id": "2c7faa42",
   "metadata": {},
   "outputs": [],
   "source": []
  }
 ],
 "metadata": {
  "kernelspec": {
   "display_name": "Python 3 (ipykernel)",
   "language": "python",
   "name": "python3"
  },
  "language_info": {
   "codemirror_mode": {
    "name": "ipython",
    "version": 3
   },
   "file_extension": ".py",
   "mimetype": "text/x-python",
   "name": "python",
   "nbconvert_exporter": "python",
   "pygments_lexer": "ipython3",
   "version": "3.9.5"
  }
 },
 "nbformat": 4,
 "nbformat_minor": 5
}
